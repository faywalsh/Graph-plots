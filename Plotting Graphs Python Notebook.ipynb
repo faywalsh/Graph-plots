{
 "cells": [
  {
   "cell_type": "markdown",
   "metadata": {},
   "source": [
    "# Some useful links:\n",
    "\n",
    "How to use the notebook:\n",
    "\n",
    "https://www.dataquest.io/blog/jupyter-notebook-tutorial/\n",
    "\n",
    "https://realpython.com/jupyter-notebook-introduction/\n",
    "\n",
    "\n",
    "Plotting graphs with Seaborn package:\n",
    "\n",
    "https://seaborn.pydata.org/\n",
    "\n",
    "https://aminazahid45.medium.com/seaborn-in-python-76f44752a7c8\n",
    "\n",
    "\n",
    "Stats analysis:\n",
    "\n",
    "https://www.pythonfordatascience.org/anova-python/\n"
   ]
  },
  {
   "cell_type": "code",
   "execution_count": null,
   "metadata": {},
   "outputs": [],
   "source": [
    "#Import packages for plotting and statistical analysis:\n",
    "\n",
    "import numpy as np\n",
    "import pandas as pd\n",
    "import statsmodels.api as sm\n",
    "import matplotlib.pyplot as plt\n",
    "import seaborn as sns\n",
    "from scipy import stats\n",
    "import scipy.stats as sp\n",
    "import statsmodels.api as sm\n",
    "from statsmodels.formula.api import ols\n",
    "import statsmodels.stats.multicomp as mc"
   ]
  },
  {
   "cell_type": "code",
   "execution_count": null,
   "metadata": {},
   "outputs": [],
   "source": [
    "#Import your results csv file as 'data' and perform descriptive statistics (make sure your csv file is in the same folder as your noetbook)\n",
    "\n",
    "data = pd.read_csv(\"___.csv\") #change '___' to your csv file name\n",
    "data.describe(include = \"all\")"
   ]
  },
  {
   "cell_type": "code",
   "execution_count": null,
   "metadata": {},
   "outputs": [],
   "source": [
    "# Plotting Graphs - This code would overlay the datapoints as a swarm plot over the top of the box plot\n",
    "\n",
    "#Change x and y to your variables and change data if you've called your dataframe something other than 'data'\n",
    "\n",
    "fig, ax= plt.subplots()\n",
    "\n",
    "sns.boxplot(y = \"angle\", x = \"distance\", data = data) #Code to make the boxplot\n",
    "sns.swarmplot(y = \"angle\", x = \"distance\", data = data) #code to make the swarm plot\n",
    "\n",
    "ax.set_xlabel(\"X axis\")  #x axis label\n",
    "ax.set_ylabel(\"Y axis\") #y axis label\n",
    "\n",
    "\n",
    "plt.title(\"My Graph\") #Title the graph if you want to\n",
    "\n",
    "ax.set_ylim(0,90) #This code sets the y axis to be between 0 and 90 (don't need to include this)\n",
    "\n",
    "plt.tight_layout() #Makes the graph look a bit better \n",
    "\n",
    "plt.savefig(\"___.png\", dpi = 300) #This code will save your graph as a png file in the same folder as your notebook is located"
   ]
  },
  {
   "cell_type": "markdown",
   "metadata": {},
   "source": [
    "# Statistical Analysis"
   ]
  },
  {
   "cell_type": "code",
   "execution_count": null,
   "metadata": {},
   "outputs": [],
   "source": [
    "#Performing a t-test on the variable 'angle' with the data grouped by the 'plant_id' (e.g. WT, mutant etc.)\n",
    "\n",
    "lm = ols('angle ~ plant_id',data=data).fit()\n",
    "table = sm.stats.anova_lm(lm)\n",
    "print(table)"
   ]
  },
  {
   "cell_type": "code",
   "execution_count": null,
   "metadata": {},
   "outputs": [],
   "source": [
    "#Code for a Tukey's post-hoc test\n",
    "\n",
    "comp = mc.MultiComparison(data['angle'], data['plant_id'])\n",
    "post_hoc_res = comp.tukeyhsd()\n",
    "post_hoc_res.summary()"
   ]
  }
 ],
 "metadata": {
  "kernelspec": {
   "display_name": "Python 3",
   "language": "python",
   "name": "python3"
  },
  "language_info": {
   "codemirror_mode": {
    "name": "ipython",
    "version": 3
   },
   "file_extension": ".py",
   "mimetype": "text/x-python",
   "name": "python",
   "nbconvert_exporter": "python",
   "pygments_lexer": "ipython3",
   "version": "3.7.4"
  }
 },
 "nbformat": 4,
 "nbformat_minor": 2
}
